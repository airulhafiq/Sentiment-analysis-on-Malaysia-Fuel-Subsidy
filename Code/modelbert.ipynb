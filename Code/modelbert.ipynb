{
 "cells": [
  {
   "cell_type": "markdown",
   "metadata": {},
   "source": [
    "**<h3>BERT Model for sentiment analysis FYP</h3>**\n",
    "\n"
   ]
  },
  {
   "cell_type": "code",
   "execution_count": 1,
   "metadata": {},
   "outputs": [
    {
     "name": "stdout",
     "output_type": "stream",
     "text": [
      "1\n",
      "NVIDIA GeForce GTX 1650\n"
     ]
    }
   ],
   "source": [
    "import torch\n",
    "print(torch.cuda.device_count())\n",
    "print(torch.cuda.get_device_name(0))"
   ]
  },
  {
   "cell_type": "code",
   "execution_count": 2,
   "metadata": {},
   "outputs": [
    {
     "data": {
      "text/plain": [
       "'12.4'"
      ]
     },
     "execution_count": 2,
     "metadata": {},
     "output_type": "execute_result"
    }
   ],
   "source": [
    "import torch.version\n",
    "\n",
    "\n",
    "torch.version.cuda"
   ]
  },
  {
   "cell_type": "code",
   "execution_count": 2,
   "metadata": {},
   "outputs": [],
   "source": [
    "import random\n",
    "import numpy as np\n",
    "\n",
    "torch.cuda.empty_cache()\n",
    "torch.manual_seed(42)\n",
    "torch.cuda.manual_seed(42)\n",
    "torch.cuda.manual_seed_all(42)\n",
    "\n",
    "random.seed(42)\n",
    "np.random.seed(42)\n"
   ]
  },
  {
   "cell_type": "code",
   "execution_count": 3,
   "metadata": {},
   "outputs": [
    {
     "name": "stderr",
     "output_type": "stream",
     "text": [
      "c:\\Users\\airul hafiq\\Desktop\\DataPreprocessing\\DataPreprocessing\\.venv\\Lib\\site-packages\\tqdm\\auto.py:21: TqdmWarning: IProgress not found. Please update jupyter and ipywidgets. See https://ipywidgets.readthedocs.io/en/stable/user_install.html\n",
      "  from .autonotebook import tqdm as notebook_tqdm\n"
     ]
    }
   ],
   "source": [
    "import pandas as pd\n",
    "import torch\n",
    "from sklearn.model_selection import train_test_split\n",
    "from transformers import BertTokenizer, BertForSequenceClassification\n",
    "from transformers import AdamW\n",
    "from sklearn.metrics import classification_report , accuracy_score"
   ]
  },
  {
   "cell_type": "code",
   "execution_count": 4,
   "metadata": {},
   "outputs": [
    {
     "name": "stdout",
     "output_type": "stream",
     "text": [
      "                 Name                                            comment  \\\n",
      "0         Azmin Ahmad  Syed Mohd Saidi is not a smuggling.But leakage...   \n",
      "1        Syefry Moniz  Syed Mohd Saidi mcm in Sabah and Sarawak is no...   \n",
      "2             Yuz Ron     The agency is useful for the day of the parade   \n",
      "3  Suhaimi Abd Rahman  Syed Mohd Saidi Species did not read this… .sp...   \n",
      "4   Purba Simpuh Ipoh  Syed Mohd Saidi .The government is for the bes...   \n",
      "\n",
      "  Sentiment  \n",
      "0   Neutral  \n",
      "1  Positive  \n",
      "2  Positive  \n",
      "3   Neutral  \n",
      "4  Positive  \n"
     ]
    }
   ],
   "source": [
    "# Load the dataset\n",
    "#excel = pd.read_excel('/content/fb scrape_translated_merged_Labeled.xlsx')\n",
    "#excel.to_csv('fb_scrape_translated_merged_Labeled.csv', index=False)\n",
    "data = pd.read_csv('C:/Users/airul hafiq/Desktop/DataPreprocessing/DataPreprocessing/Model/fb+reddit.csv')\n",
    "\n",
    "# Display the first few rows\n",
    "print(data.head())"
   ]
  },
  {
   "cell_type": "code",
   "execution_count": 5,
   "metadata": {},
   "outputs": [],
   "source": [
    "# Map sentiment labels to numerical values\n",
    "label_mapping = {'Negative': 0, 'Neutral': 1, 'Positive': 2}\n",
    "data['label'] = data['Sentiment'].map(label_mapping)\n",
    "\n",
    "# Initialize BERT tokenizer\n",
    "tokenizer = BertTokenizer.from_pretrained('bert-base-uncased')\n"
   ]
  },
  {
   "cell_type": "code",
   "execution_count": 6,
   "metadata": {},
   "outputs": [],
   "source": [
    "# Ensure all entries in the 'comment' column are strings\n",
    "data['comment'] = data['comment'].fillna('').astype(str)\n",
    "\n",
    "# Tokenize the 'comment' column\n",
    "tokens = tokenizer(\n",
    "    data['comment'].tolist(),\n",
    "    max_length=128,   # Set the max length based on your data, here it’s capped at 128\n",
    "    padding=True,\n",
    "    truncation=True,\n",
    "    return_tensors=\"pt\"\n",
    ")"
   ]
  },
  {
   "cell_type": "code",
   "execution_count": 7,
   "metadata": {},
   "outputs": [],
   "source": [
    "X = tokens['input_ids']   # Tokenized comment texts\n",
    "X_attention_masks = tokens['attention_mask']\n",
    "y = torch.tensor(data['label'].values)   # Labels\n",
    "\n",
    "# Use 80% for training and 20% for testing\n",
    "train_inputs, test_inputs, train_masks, test_masks, train_labels, test_labels = train_test_split(\n",
    "    X, X_attention_masks, y, test_size=0.1, random_state=42\n",
    ")\n"
   ]
  },
  {
   "cell_type": "code",
   "execution_count": 8,
   "metadata": {},
   "outputs": [],
   "source": [
    "from torch.utils.data import DataLoader, TensorDataset, RandomSampler, SequentialSampler\n",
    "\n",
    "# Create TensorDatasets\n",
    "train_data = TensorDataset(train_inputs, train_masks, train_labels)\n",
    "test_data = TensorDataset(test_inputs, test_masks, test_labels)\n",
    "\n",
    "# DataLoaders\n",
    "train_dataloader = DataLoader(train_data, sampler=RandomSampler(train_data), batch_size=4)\n",
    "test_dataloader = DataLoader(test_data, sampler=SequentialSampler(test_data), batch_size=4)"
   ]
  },
  {
   "cell_type": "markdown",
   "metadata": {},
   "source": [
    "###ERROR####"
   ]
  },
  {
   "cell_type": "code",
   "execution_count": 9,
   "metadata": {},
   "outputs": [],
   "source": [
    "# import torch\n",
    "# print(torch.__version__)"
   ]
  },
  {
   "cell_type": "code",
   "execution_count": 10,
   "metadata": {},
   "outputs": [],
   "source": [
    "# import sys  # Import the sys module to access system-specific parameters and functions\n",
    "\n",
    "# # Print the Python version to the console\n",
    "# print(\"Python version\")\n",
    "\n",
    "# # Use the sys.version attribute to get the Python version and print it\n",
    "# print(sys.version)\n",
    "\n",
    "# # Print information about the Python version\n",
    "# print(\"Version info.\")\n",
    "\n",
    "# # Use the sys.version_info attribute to get detailed version information and print it\n",
    "# print(sys.version_info)"
   ]
  },
  {
   "cell_type": "code",
   "execution_count": 11,
   "metadata": {},
   "outputs": [
    {
     "name": "stderr",
     "output_type": "stream",
     "text": [
      "Some weights of BertForSequenceClassification were not initialized from the model checkpoint at bert-base-uncased and are newly initialized: ['classifier.bias', 'classifier.weight']\n",
      "You should probably TRAIN this model on a down-stream task to be able to use it for predictions and inference.\n"
     ]
    },
    {
     "data": {
      "text/plain": [
       "BertForSequenceClassification(\n",
       "  (bert): BertModel(\n",
       "    (embeddings): BertEmbeddings(\n",
       "      (word_embeddings): Embedding(30522, 768, padding_idx=0)\n",
       "      (position_embeddings): Embedding(512, 768)\n",
       "      (token_type_embeddings): Embedding(2, 768)\n",
       "      (LayerNorm): LayerNorm((768,), eps=1e-12, elementwise_affine=True)\n",
       "      (dropout): Dropout(p=0.1, inplace=False)\n",
       "    )\n",
       "    (encoder): BertEncoder(\n",
       "      (layer): ModuleList(\n",
       "        (0-11): 12 x BertLayer(\n",
       "          (attention): BertAttention(\n",
       "            (self): BertSdpaSelfAttention(\n",
       "              (query): Linear(in_features=768, out_features=768, bias=True)\n",
       "              (key): Linear(in_features=768, out_features=768, bias=True)\n",
       "              (value): Linear(in_features=768, out_features=768, bias=True)\n",
       "              (dropout): Dropout(p=0.1, inplace=False)\n",
       "            )\n",
       "            (output): BertSelfOutput(\n",
       "              (dense): Linear(in_features=768, out_features=768, bias=True)\n",
       "              (LayerNorm): LayerNorm((768,), eps=1e-12, elementwise_affine=True)\n",
       "              (dropout): Dropout(p=0.1, inplace=False)\n",
       "            )\n",
       "          )\n",
       "          (intermediate): BertIntermediate(\n",
       "            (dense): Linear(in_features=768, out_features=3072, bias=True)\n",
       "            (intermediate_act_fn): GELUActivation()\n",
       "          )\n",
       "          (output): BertOutput(\n",
       "            (dense): Linear(in_features=3072, out_features=768, bias=True)\n",
       "            (LayerNorm): LayerNorm((768,), eps=1e-12, elementwise_affine=True)\n",
       "            (dropout): Dropout(p=0.1, inplace=False)\n",
       "          )\n",
       "        )\n",
       "      )\n",
       "    )\n",
       "    (pooler): BertPooler(\n",
       "      (dense): Linear(in_features=768, out_features=768, bias=True)\n",
       "      (activation): Tanh()\n",
       "    )\n",
       "  )\n",
       "  (dropout): Dropout(p=0.1, inplace=False)\n",
       "  (classifier): Linear(in_features=768, out_features=3, bias=True)\n",
       ")"
      ]
     },
     "execution_count": 11,
     "metadata": {},
     "output_type": "execute_result"
    }
   ],
   "source": [
    "# Limit GPU memory usage to 60% of the total memory\n",
    "# torch.cuda.set_per_process_memory_fraction(0.6, device=0)\n",
    "\n",
    "model = BertForSequenceClassification.from_pretrained('bert-base-uncased', num_labels=3)\n",
    "device = torch.device('cuda') #if torch.cuda.is_available() else 'cpu')\n",
    "model.to(device)"
   ]
  },
  {
   "cell_type": "code",
   "execution_count": 12,
   "metadata": {},
   "outputs": [],
   "source": [
    "from torch.optim import AdamW\n",
    "optimizer = AdamW(model.parameters(), lr=1e-5) "
   ]
  },
  {
   "cell_type": "code",
   "execution_count": 13,
   "metadata": {},
   "outputs": [],
   "source": [
    "# print(torch.version.cuda)"
   ]
  },
  {
   "cell_type": "code",
   "execution_count": 14,
   "metadata": {},
   "outputs": [],
   "source": [
    "# import torch\n",
    "# print(torch.cuda.is_available())\n",
    "# print(torch.cuda.get_device_name(0))\n"
   ]
  },
  {
   "cell_type": "code",
   "execution_count": 15,
   "metadata": {},
   "outputs": [
    {
     "name": "stdout",
     "output_type": "stream",
     "text": [
      "Epoch 1 - Loss: 0.6334638905669883\n",
      "Epoch 2 - Loss: 0.3315914315865476\n",
      "Epoch 3 - Loss: 0.18924393621892507\n"
     ]
    }
   ],
   "source": [
    "from torch.nn import CrossEntropyLoss\n",
    "\n",
    "epochs = 3\n",
    "\n",
    "for epoch in range(epochs):\n",
    "    model.train()\n",
    "    total_loss = 0\n",
    "    for batch in train_dataloader:\n",
    "        b_input_ids, b_input_mask, b_labels = [t.to(device) for t in batch]\n",
    "\n",
    "        model.zero_grad()\n",
    "\n",
    "        outputs = model(input_ids=b_input_ids, attention_mask=b_input_mask, labels=b_labels)\n",
    "        loss = outputs.loss\n",
    "        total_loss += loss.item()\n",
    "\n",
    "        loss.backward()\n",
    "        optimizer.step()\n",
    "\n",
    "    print(f\"Epoch {epoch+1} - Loss: {total_loss / len(train_dataloader)}\")\n"
   ]
  },
  {
   "cell_type": "code",
   "execution_count": 16,
   "metadata": {},
   "outputs": [
    {
     "name": "stdout",
     "output_type": "stream",
     "text": [
      "Accuracy: 86.79%\n",
      "              precision    recall  f1-score   support\n",
      "\n",
      "    negative       0.74      0.84      0.79       173\n",
      "     neutral       0.95      0.89      0.91       412\n",
      "    positive       0.85      0.86      0.86       301\n",
      "\n",
      "    accuracy                           0.87       886\n",
      "   macro avg       0.85      0.86      0.85       886\n",
      "weighted avg       0.87      0.87      0.87       886\n",
      "\n"
     ]
    }
   ],
   "source": [
    "model.eval()\n",
    "predictions, true_labels = [], []\n",
    "\n",
    "for batch in test_dataloader:\n",
    "    b_input_ids, b_input_mask, b_labels = [t.to(device) for t in batch]\n",
    "\n",
    "    with torch.no_grad():\n",
    "        outputs = model(input_ids=b_input_ids, attention_mask=b_input_mask)\n",
    "\n",
    "    logits = outputs.logits\n",
    "    predictions.extend(torch.argmax(logits, dim=1).cpu().numpy())\n",
    "    true_labels.extend(b_labels.cpu().numpy())\n",
    "\n",
    "# Calculate and display the accuracy\n",
    "accuracy = accuracy_score(true_labels, predictions)\n",
    "print(f\"Accuracy: {accuracy * 100:.2f}%\")\n",
    "\n",
    "# Generate a classification report\n",
    "print(classification_report(true_labels, predictions, target_names=['negative', 'neutral', 'positive']))\n"
   ]
  },
  {
   "cell_type": "code",
   "execution_count": 17,
   "metadata": {},
   "outputs": [
    {
     "data": {
      "image/png": "[encoded data removed]",
      "text/plain": [
       "<Figure size 800x600 with 2 Axes>"
      ]
     },
     "metadata": {},
     "output_type": "display_data"
    },
    {
     "data": {
      "image/png": "[encoded data removed]",
      "text/plain": [
       "<Figure size 600x400 with 2 Axes>"
      ]
     },
     "metadata": {},
     "output_type": "display_data"
    }
   ],
   "source": [
    "import seaborn as sns\n",
    "import matplotlib.pyplot as plt\n",
    "import pandas as pd\n",
    "from sklearn.metrics import confusion_matrix\n",
    "\n",
    "# Generate a confusion matrix\n",
    "conf_matrix = confusion_matrix(true_labels, predictions)\n",
    "\n",
    "# Convert confusion matrix to a DataFrame for easier visualization\n",
    "conf_matrix_df = pd.DataFrame(conf_matrix, \n",
    "                              index=['negative', 'neutral', 'positive'], \n",
    "                              columns=['negative', 'neutral', 'positive'])\n",
    "\n",
    "# Plot the confusion matrix as a heatmap\n",
    "plt.figure(figsize=(8, 6))\n",
    "sns.heatmap(conf_matrix_df, annot=True, cmap='Blues', fmt='g')\n",
    "plt.title(\"Confusion Matrix - Sentiment Analysis\")\n",
    "plt.xlabel(\"Predicted Labels\")\n",
    "plt.ylabel(\"True Labels\")\n",
    "plt.show()\n",
    "\n",
    "# Calculate and display the correlation matrix\n",
    "# (for classification problems, a confusion matrix often serves a similar purpose)\n",
    "corr_matrix = pd.DataFrame(conf_matrix).corr()\n",
    "\n",
    "plt.figure(figsize=(6, 4))\n",
    "sns.heatmap(corr_matrix, annot=True, cmap='coolwarm', fmt='.2f')\n",
    "plt.title(\"Correlation Matrix of Labels\")\n",
    "plt.show()\n"
   ]
  },
  {
   "cell_type": "code",
   "execution_count": 18,
   "metadata": {},
   "outputs": [
    {
     "data": {
      "text/plain": [
       "('bert_sentiment_VADER_model_adamW901043\\\\tokenizer_config.json',\n",
       " 'bert_sentiment_VADER_model_adamW901043\\\\special_tokens_map.json',\n",
       " 'bert_sentiment_VADER_model_adamW901043\\\\vocab.txt',\n",
       " 'bert_sentiment_VADER_model_adamW901043\\\\added_tokens.json')"
      ]
     },
     "execution_count": 18,
     "metadata": {},
     "output_type": "execute_result"
    }
   ],
   "source": [
    "model.save_pretrained('bert_sentiment_VADER_model_adamW901043')\n",
    "tokenizer.save_pretrained('bert_sentiment_VADER_model_adamW901043')"
   ]
  },
  {
   "cell_type": "markdown",
   "metadata": {},
   "source": [
    "<h2>EXAMPLE</h2>"
   ]
  },
  {
   "cell_type": "code",
   "execution_count": 19,
   "metadata": {},
   "outputs": [],
   "source": [
    "# from transformers import BertTokenizer, BertForSequenceClassification\n",
    "# import torch"
   ]
  },
  {
   "cell_type": "code",
   "execution_count": 20,
   "metadata": {},
   "outputs": [],
   "source": [
    "\n",
    "# # Load the model and tokenizer\n",
    "# model_path = \"C:/Users/airul hafiq/Desktop/DataPreprocessing/DataPreprocessing/Model/bert_sentiment_model_adam44\"\n",
    "# model = BertForSequenceClassification.from_pretrained(model_path)\n",
    "# tokenizer = BertTokenizer.from_pretrained(model_path)"
   ]
  },
  {
   "cell_type": "code",
   "execution_count": 21,
   "metadata": {},
   "outputs": [],
   "source": [
    "# device = torch.device('cuda' if torch.cuda.is_available() else 'cpu')\n",
    "# model.to(device)"
   ]
  },
  {
   "cell_type": "code",
   "execution_count": null,
   "metadata": {},
   "outputs": [],
   "source": [
    "# # Add this function to the end of your script\n",
    "# def predict_sentiment(text, model, tokenizer, device):\n",
    "#     \"\"\"\n",
    "#     Predict the sentiment of a given text using a trained BERT model.\n",
    "\n",
    "#     Parameters:\n",
    "#     - text (str): The input text for prediction.\n",
    "#     - model (nn.Module): The trained BERT model.\n",
    "#     - tokenizer (BertTokenizer): The tokenizer used for preprocessing.\n",
    "#     - device (torch.device): The device to run the model on.\n",
    "\n",
    "#     Returns:\n",
    "#     - str: Sentiment label ('negative', 'neutral', 'positive').\n",
    "#     \"\"\"\n",
    "#     # Preprocess the text using the tokenizer\n",
    "#     encoded_text = tokenizer.encode_plus(\n",
    "#         text,\n",
    "#         add_special_tokens=True,\n",
    "#         max_length=128,  # Adjust based on training max length\n",
    "#         padding='max_length',\n",
    "#         truncation=True,\n",
    "#         return_tensors='pt'\n",
    "#     )\n",
    "    \n",
    "#     input_ids = encoded_text['input_ids'].to(device)\n",
    "#     attention_mask = encoded_text['attention_mask'].to(device)\n",
    "\n",
    "#     # Set model to evaluation mode\n",
    "#     model.eval()\n",
    "\n",
    "#     # Run the input through the model\n",
    "#     with torch.no_grad():\n",
    "#         outputs = model(input_ids=input_ids, attention_mask=attention_mask)\n",
    "    \n",
    "#     logits = outputs.logits\n",
    "#     prediction = torch.argmax(logits, dim=1).cpu().item()\n",
    "\n",
    "#     # Map numerical prediction to sentiment label\n",
    "#     sentiment_map = {0: 'negative', 1: 'neutral', 2: 'positive'}\n",
    "#     return sentiment_map[prediction]\n",
    "\n"
   ]
  },
  {
   "cell_type": "code",
   "execution_count": null,
   "metadata": {},
   "outputs": [],
   "source": [
    "# Test the model with a sample sentence\n",
    "sample_text = \"The laptop has a 15-inch screen and 8GB of RAM.\"\n",
    "predicted_sentiment = predict_sentiment(sample_text, model, tokenizer, device)\n",
    "print(f\"Predicted Sentiment: {predicted_sentiment}\")"
   ]
  },
  {
   "cell_type": "code",
   "execution_count": null,
   "metadata": {},
   "outputs": [],
   "source": [
    "# import torch\n",
    "# from transformers import BertTokenizer, BertForSequenceClassification\n",
    "# import pandas as pd\n",
    "\n",
    "# # # Load the trained BERT model\n",
    "# model_path = \"C:/Users/airul hafiq/Desktop/DataPreprocessing/DataPreprocessing/Model/bert_sentiment_model\"\n",
    "# model = BertForSequenceClassification.from_pretrained(model_path)\n",
    "# tokenizer = BertTokenizer.from_pretrained(model_path)\n",
    "\n",
    "# # # Set the model to evaluation mode and ensure it runs on the correct device\n",
    "# device = torch.device('cuda' if torch.cuda.is_available() else 'cpu')\n",
    "# model.to(device)\n",
    "# model.eval()\n",
    "\n",
    "# # # Load the dataset\n",
    "# dataset_path = \"C:/Users/airul hafiq/Desktop/DataPreprocessing/DataPreprocessing/translate/(bert)fb+reddit.csv\"\n",
    "# data = pd.read_csv(dataset_path)\n",
    "\n",
    "# # Ensure the 'comment' column is a string\n",
    "# data['comment'] = data['comment'].fillna('').astype(str)\n",
    "\n",
    "# # Initialize list to store predictions\n",
    "# predictions = []\n",
    "\n",
    "# # Batch processing to avoid out-of-memory issues\n",
    "# batch_size = 8  # Reduce batch size to fit within 4GB VRAM\n",
    "# max_length = 64  # Reduce sequence length for efficiency\n",
    "\n",
    "# for i in range(0, len(data), batch_size):\n",
    "#     batch_texts = data['comment'].iloc[i:i + batch_size].tolist()\n",
    "\n",
    "#     # Tokenize the batch\n",
    "#     tokens = tokenizer(\n",
    "#         batch_texts,\n",
    "#         max_length=max_length,\n",
    "#         padding=True,\n",
    "#         truncation=True,\n",
    "#         return_tensors=\"pt\"\n",
    "#     )\n",
    "\n",
    "#     # Move tokenized inputs to the correct device\n",
    "#     tokens = {key: val.to(device) for key, val in tokens.items()}\n",
    "\n",
    "#     with torch.no_grad():\n",
    "#         outputs = model(**tokens)\n",
    "#         logits = outputs.logits\n",
    "\n",
    "#     # Convert logits to predicted class labels (0, 1, 2)\n",
    "#     batch_predictions = torch.argmax(logits, dim=1).cpu().numpy()\n",
    "#     predictions.extend(batch_predictions)\n",
    "\n",
    "#     # Clear CUDA cache to manage memory\n",
    "#     torch.cuda.empty_cache()\n",
    "\n",
    "# # Map the predicted labels to sentiment strings\n",
    "# label_mapping = {0: 'Negative', 1: 'Neutral', 2: 'Positive'}\n",
    "# data['Sentiment'] = [label_mapping[label] for label in predictions]\n",
    "\n",
    "# # Save the updated dataset to a new CSV file\n",
    "# output_path = \"labeled_dataset.csv\"\n",
    "# data.to_csv(output_path, index=False)\n",
    "\n",
    "# print(f\"Sentiment-labeled dataset saved to {output_path}\")"
   ]
  }
 ],
 "metadata": {
  "kernelspec": {
   "display_name": ".venv",
   "language": "python",
   "name": "python3"
  },
  "language_info": {
   "codemirror_mode": {
    "name": "ipython",
    "version": 3
   },
   "file_extension": ".py",
   "mimetype": "text/x-python",
   "name": "python",
   "nbconvert_exporter": "python",
   "pygments_lexer": "ipython3",
   "version": "3.11.4"
  }
 },
 "nbformat": 4,
 "nbformat_minor": 2
}
